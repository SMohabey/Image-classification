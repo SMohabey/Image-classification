{
 "cells": [
  {
   "cell_type": "markdown",
   "metadata": {},
   "source": [
    "#  Machine learning classificatin"
   ]
  },
  {
   "cell_type": "markdown",
   "metadata": {},
   "source": [
    "# Image Classification"
   ]
  },
  {
   "cell_type": "code",
   "execution_count": null,
   "metadata": {},
   "outputs": [],
   "source": [
    "# Author @Mohabey\n",
    "#classifying cat, dog, panda image"
   ]
  },
  {
   "cell_type": "code",
   "execution_count": 1,
   "metadata": {},
   "outputs": [],
   "source": [
    "import os\n",
    "import cv2\n",
    "import numpy as np\n",
    "from tqdm import tqdm\n",
    "import pandas as pd\n",
    "import matplotlib.pyplot as plt\n",
    "\n",
    "#from tensorflow.keras.preprocessing.image import ImageDataGenerator\n",
    "#from tensorflow.keras import applications\n",
    "\n",
    "# Classifier\n",
    "import tensorflow as tf\n",
    "from tensorflow.keras import Sequential, Model\n",
    "from tensorflow.keras.layers import Dense\n",
    "from tensorflow.keras import models, layers\n",
    "from tensorflow.keras.layers import Dense, Conv2D, MaxPool2D, Flatten, BatchNormalization, Dropout\n",
    "from tensorflow.keras.utils import to_categorical\n",
    "\n",
    "from sklearn.preprocessing import LabelEncoder\n",
    "from sklearn.model_selection import train_test_split\n",
    "from sklearn.metrics import accuracy_score, f1_score\n",
    "from sklearn.metrics import classification_report"
   ]
  },
  {
   "cell_type": "code",
   "execution_count": 49,
   "metadata": {},
   "outputs": [
    {
     "name": "stderr",
     "output_type": "stream",
     "text": [
      "100%|██████████████████████████████████████| 2882/2882 [00:42<00:00, 67.91it/s]\n",
      "100%|████████████████████████████████████████| 153/153 [00:01<00:00, 94.07it/s]\n"
     ]
    }
   ],
   "source": [
    "categories = ['dog', 'panda', 'cat']\n",
    "X_train, X_test = [], []\n",
    "y_train, y_test = [], []\n",
    "imagePaths = []\n",
    "HEIGHT = 32\n",
    "WIDTH = 55\n",
    "N_CHANNELS = 3\n",
    "\n",
    "\n",
    "# load training data\n",
    "for k, category in enumerate(categories):\n",
    "    for f in os.listdir('./data/train/' + category):\n",
    "        imagePaths.append(['./data/train/' + category+'/'+f, k])\n",
    "\n",
    "# loop over the input images\n",
    "for imagePath in tqdm(imagePaths):\n",
    "    if 'ds_store' in imagePath[0].lower():\n",
    "        continue\n",
    "    # load the image, resize the image to be HEIGHT * WIDTH pixels (ignoring\n",
    "    # aspect ratio) and store the image in the data list\n",
    "    image = cv2.imread(imagePath[0])\n",
    "    image = cv2.resize(image, (WIDTH, HEIGHT))  # .flatten()\n",
    "    X_train.append(image)\n",
    "    # extract the class label from the image path and update the\n",
    "    # labels list\n",
    "    label = imagePath[1]\n",
    "    y_train.append(label)\n",
    "\n",
    "# load test data\n",
    "imagePaths = []\n",
    "for k, category in enumerate(categories):\n",
    "    for f in os.listdir('./data/test/' + category):\n",
    "        imagePaths.append(['./data/test/' + category+'/'+f, k])\n",
    "\n",
    "# loop over the input images\n",
    "for imagePath in tqdm(imagePaths):\n",
    "    if 'ds_store' in imagePath[0].lower():\n",
    "        continue\n",
    "    # load the image, resize the image to be HEIGHT * WIDTH pixels (ignoring\n",
    "    # aspect ratio) and store the image in the data list\n",
    "    image = cv2.imread(imagePath[0])\n",
    "    image = cv2.resize(image, (WIDTH, HEIGHT))  # .flatten()\n",
    "    X_test.append(image)\n",
    "    # extract the class label from the image path and update the\n",
    "    # labels list\n",
    "    label = imagePath[1]\n",
    "    y_test.append(label)\n",
    "\n",
    "\n",
    "X_train, X_test, y_train, y_test  = np.array(X_train), np.array(X_test), np.array(y_train), np.array(y_test)"
   ]
  },
  {
   "cell_type": "code",
   "execution_count": 50,
   "metadata": {},
   "outputs": [
    {
     "data": {
      "text/plain": [
       "<matplotlib.image.AxesImage at 0x1deac289ec8>"
      ]
     },
     "execution_count": 50,
     "metadata": {},
     "output_type": "execute_result"
    },
    {
     "data": {
      "image/png": "[encoded data removed]",
      "text/plain": [
       "<Figure size 1080x144 with 1 Axes>"
      ]
     },
     "metadata": {
      "needs_background": "light"
     },
     "output_type": "display_data"
    }
   ],
   "source": [
    "# Show images\n",
    "plt.figure(figsize=(15,2))\n",
    "plt.imshow(X_train[6])\n"
   ]
  },
  {
   "cell_type": "code",
   "execution_count": 51,
   "metadata": {},
   "outputs": [],
   "source": [
    "# Normalize the data. \n",
    "#Images are numbers [0,255]. By dividing by 255 we normalize it into a range of [0,1]\n",
    "X_train = np.array(X_train) / 255\n",
    "X_test = np.array(X_test) / 255\n"
   ]
  },
  {
   "cell_type": "code",
   "execution_count": 52,
   "metadata": {},
   "outputs": [],
   "source": [
    "# For a CNN, the input is always a tensor. A Tensor is a 3-D Matrix (height, width, channels). \"Channels are the colors\". \n",
    "\n",
    "#X_train = X_train.reshape(-1, 32, 55, 3)\n",
    "#X_test = X_test.reshape(-1, 32, 55, 3) "
   ]
  },
  {
   "cell_type": "code",
   "execution_count": 53,
   "metadata": {},
   "outputs": [
    {
     "data": {
      "text/plain": [
       "(2879, 32, 55, 3)"
      ]
     },
     "execution_count": 53,
     "metadata": {},
     "output_type": "execute_result"
    }
   ],
   "source": [
    "X_train.shape    #checking the shape of train data"
   ]
  },
  {
   "cell_type": "code",
   "execution_count": 54,
   "metadata": {},
   "outputs": [
    {
     "data": {
      "text/plain": [
       "(2879,)"
      ]
     },
     "execution_count": 54,
     "metadata": {},
     "output_type": "execute_result"
    }
   ],
   "source": [
    "y_train.shape     #checking shape of test data"
   ]
  },
  {
   "cell_type": "code",
   "execution_count": 55,
   "metadata": {},
   "outputs": [
    {
     "name": "stdout",
     "output_type": "stream",
     "text": [
      "Model: \"sequential_2\"\n",
      "_________________________________________________________________\n",
      "Layer (type)                 Output Shape              Param #   \n",
      "=================================================================\n",
      "conv2d_10 (Conv2D)           (None, 32, 55, 32)        896       \n",
      "_________________________________________________________________\n",
      "batch_normalization_8 (Batch (None, 32, 55, 32)        128       \n",
      "_________________________________________________________________\n",
      "max_pooling2d_10 (MaxPooling (None, 16, 28, 32)        0         \n",
      "_________________________________________________________________\n",
      "conv2d_11 (Conv2D)           (None, 16, 28, 64)        18496     \n",
      "_________________________________________________________________\n",
      "dropout_4 (Dropout)          (None, 16, 28, 64)        0         \n",
      "_________________________________________________________________\n",
      "batch_normalization_9 (Batch (None, 16, 28, 64)        256       \n",
      "_________________________________________________________________\n",
      "max_pooling2d_11 (MaxPooling (None, 8, 14, 64)         0         \n",
      "_________________________________________________________________\n",
      "conv2d_12 (Conv2D)           (None, 8, 14, 64)         36928     \n",
      "_________________________________________________________________\n",
      "batch_normalization_10 (Batc (None, 8, 14, 64)         256       \n",
      "_________________________________________________________________\n",
      "max_pooling2d_12 (MaxPooling (None, 4, 7, 64)          0         \n",
      "_________________________________________________________________\n",
      "conv2d_13 (Conv2D)           (None, 4, 7, 128)         73856     \n",
      "_________________________________________________________________\n",
      "max_pooling2d_13 (MaxPooling (None, 2, 4, 128)         0         \n",
      "_________________________________________________________________\n",
      "conv2d_14 (Conv2D)           (None, 2, 4, 256)         295168    \n",
      "_________________________________________________________________\n",
      "dropout_5 (Dropout)          (None, 2, 4, 256)         0         \n",
      "_________________________________________________________________\n",
      "batch_normalization_11 (Batc (None, 2, 4, 256)         1024      \n",
      "_________________________________________________________________\n",
      "max_pooling2d_14 (MaxPooling (None, 1, 2, 256)         0         \n",
      "_________________________________________________________________\n",
      "flatten_2 (Flatten)          (None, 512)               0         \n",
      "_________________________________________________________________\n",
      "dense_4 (Dense)              (None, 128)               65664     \n",
      "_________________________________________________________________\n",
      "dense_5 (Dense)              (None, 3)                 387       \n",
      "=================================================================\n",
      "Total params: 493,059\n",
      "Trainable params: 492,227\n",
      "Non-trainable params: 832\n",
      "_________________________________________________________________\n"
     ]
    }
   ],
   "source": [
    "# Define CNN model\n",
    "# CNN model has following layer convolution, batch, maxpool, conv, dropout, batch,maxpool,conv,max,conv,dropout,batch,maxpool\n",
    "model = Sequential()\n",
    "model.add(Conv2D(32, (3,3), strides=1, padding='same', activation='relu', input_shape=X_train.shape[1:])) # this layer has 32 filters. The filter size is: (3,3)\n",
    "model.add(BatchNormalization()) # to avoid overfitting\n",
    "model.add(MaxPool2D((2,2), strides=2, padding='same'))\n",
    "\n",
    "model.add(Conv2D(64 , (3,3) , strides = 1 , padding = 'same' , activation = 'relu'))\n",
    "model.add(Dropout(0.1)) # it randomly removes neurons, to avoid overfitting.\n",
    "model.add(BatchNormalization()) # BatchNormalization\n",
    "model.add(MaxPool2D((2,2) , strides = 2 , padding = 'same'))\n",
    "\n",
    "model.add(Conv2D(64 , (3,3) , strides = 1 , padding = 'same' , activation = 'relu'))\n",
    "model.add(BatchNormalization())\n",
    "model.add(MaxPool2D((2,2) , strides = 2 , padding = 'same'))\n",
    "\n",
    "model.add(Conv2D(128 , (3,3) , strides = 1 , padding = 'same' , activation = 'relu'))\n",
    "model.add(MaxPool2D((2,2) , strides = 2 , padding = 'same'))\n",
    "\n",
    "model.add(Conv2D(256 , (3,3) , strides = 1 , padding = 'same' , activation = 'relu'))\n",
    "model.add(Dropout(0.2))\n",
    "model.add(BatchNormalization())\n",
    "model.add(MaxPool2D((2,2) , strides = 2 , padding = 'same'))\n",
    "\n",
    "model.add(Flatten())\n",
    "model.add(Dense(128, activation='relu'))\n",
    "model.add(Dense(3, activation='softmax'))       #since we have 3 output category\n",
    "\n",
    "model.compile(optimizer='adam', loss='sparse_categorical_crossentropy', metrics=['accuracy'])   #using adam optimizer and sparse_categorical_crossentropy as a loss functiom\n",
    "\n",
    "model.summary()    #Generate summary of the model\n"
   ]
  },
  {
   "cell_type": "code",
   "execution_count": 63,
   "metadata": {
    "scrolled": true
   },
   "outputs": [
    {
     "name": "stdout",
     "output_type": "stream",
     "text": [
      "Epoch 1/10\n",
      "90/90 [==============================] - 12s 130ms/step - loss: 0.0596 - accuracy: 0.9802 - val_loss: 1.2203 - val_accuracy: 0.6933\n",
      "Epoch 2/10\n",
      "90/90 [==============================] - 11s 127ms/step - loss: 0.0398 - accuracy: 0.9844 - val_loss: 1.1688 - val_accuracy: 0.6800\n",
      "Epoch 3/10\n",
      "90/90 [==============================] - 12s 129ms/step - loss: 0.0850 - accuracy: 0.9680 - val_loss: 1.5030 - val_accuracy: 0.7133\n",
      "Epoch 4/10\n",
      "90/90 [==============================] - 12s 128ms/step - loss: 0.0300 - accuracy: 0.9882 - val_loss: 1.4561 - val_accuracy: 0.6867\n",
      "Epoch 5/10\n",
      "90/90 [==============================] - 12s 128ms/step - loss: 0.0300 - accuracy: 0.9892 - val_loss: 1.7172 - val_accuracy: 0.7267\n",
      "Epoch 6/10\n",
      "90/90 [==============================] - 12s 131ms/step - loss: 0.0547 - accuracy: 0.9802 - val_loss: 1.3085 - val_accuracy: 0.7133\n",
      "Epoch 7/10\n",
      "90/90 [==============================] - 12s 131ms/step - loss: 0.0298 - accuracy: 0.9910 - val_loss: 1.0632 - val_accuracy: 0.7533\n",
      "Epoch 8/10\n",
      "90/90 [==============================] - 12s 131ms/step - loss: 0.0151 - accuracy: 0.9944 - val_loss: 1.0712 - val_accuracy: 0.7400\n",
      "Epoch 9/10\n",
      "90/90 [==============================] - 12s 130ms/step - loss: 0.0065 - accuracy: 0.9976 - val_loss: 1.2801 - val_accuracy: 0.7467\n",
      "Epoch 10/10\n",
      "90/90 [==============================] - 12s 130ms/step - loss: 0.0087 - accuracy: 0.9972 - val_loss: 1.9938 - val_accuracy: 0.6733\n"
     ]
    },
    {
     "data": {
      "text/plain": [
       "<tensorflow.python.keras.callbacks.History at 0x1deb3529088>"
      ]
     },
     "execution_count": 63,
     "metadata": {},
     "output_type": "execute_result"
    }
   ],
   "source": [
    "#fitting the model\n",
    "model.fit(X_train, y_train, batch_size=32, epochs=10, validation_data=(X_test, y_test)) # Running for 10 epochs"
   ]
  },
  {
   "cell_type": "code",
   "execution_count": 64,
   "metadata": {},
   "outputs": [],
   "source": [
    "# Evaluate the Neural Network Model\n",
    "y_pred = model.predict(X_test)\n"
   ]
  },
  {
   "cell_type": "code",
   "execution_count": 65,
   "metadata": {},
   "outputs": [
    {
     "name": "stdout",
     "output_type": "stream",
     "text": [
      "Classification Report Test Class\n",
      "\n",
      "              precision    recall  f1-score   support\n",
      "\n",
      "         dog       0.57      0.84      0.68        50\n",
      "       panda       0.78      0.90      0.83        50\n",
      "         cat       0.78      0.28      0.41        50\n",
      "\n",
      "    accuracy                           0.67       150\n",
      "   macro avg       0.71      0.67      0.64       150\n",
      "weighted avg       0.71      0.67      0.64       150\n",
      "\n"
     ]
    }
   ],
   "source": [
    "y_pred_classes = [np.argmax(element) for element in y_pred]\n",
    "print(\"Classification Report Test Class\\n\")\n",
    "target_name = ['dog', 'panda', 'cat']\n",
    "print(classification_report(y_test, y_pred_classes, target_names = target_name))"
   ]
  },
  {
   "cell_type": "code",
   "execution_count": 66,
   "metadata": {},
   "outputs": [
    {
     "name": "stdout",
     "output_type": "stream",
     "text": [
      "Classification Report Train Class\n",
      "\n",
      "              precision    recall  f1-score   support\n",
      "\n",
      "         dog       0.87      0.99      0.93       954\n",
      "       panda       0.94      1.00      0.97       956\n",
      "         cat       1.00      0.80      0.89       969\n",
      "\n",
      "    accuracy                           0.93      2879\n",
      "   macro avg       0.93      0.93      0.93      2879\n",
      "weighted avg       0.93      0.93      0.93      2879\n",
      "\n"
     ]
    }
   ],
   "source": [
    "y_pred_train = model.predict(X_train)\n",
    "y_pred_classes = [np.argmax(element) for element in y_pred_train]\n",
    "print(\"Classification Report Train Class\\n\")\n",
    "target_name = ['dog', 'panda', 'cat']\n",
    "print(classification_report(y_train, y_pred_classes, target_names = target_name))\n"
   ]
  },
  {
   "cell_type": "code",
   "execution_count": 67,
   "metadata": {},
   "outputs": [
    {
     "name": "stdout",
     "output_type": "stream",
     "text": [
      "90/90 [==============================] - 2s 18ms/step - loss: 0.2329 - accuracy: 0.9278\n"
     ]
    },
    {
     "data": {
      "text/plain": [
       "[0.2328823208808899, 0.927752673625946]"
      ]
     },
     "execution_count": 67,
     "metadata": {},
     "output_type": "execute_result"
    }
   ],
   "source": [
    "model.evaluate(X_train,y_train)"
   ]
  },
  {
   "cell_type": "code",
   "execution_count": 68,
   "metadata": {},
   "outputs": [
    {
     "name": "stdout",
     "output_type": "stream",
     "text": [
      "5/5 [==============================] - 0s 15ms/step - loss: 1.9938 - accuracy: 0.6733\n"
     ]
    },
    {
     "data": {
      "text/plain": [
       "[1.993818759918213, 0.6733333468437195]"
      ]
     },
     "execution_count": 68,
     "metadata": {},
     "output_type": "execute_result"
    }
   ],
   "source": [
    "model.evaluate(X_test,y_test)"
   ]
  },
  {
   "cell_type": "code",
   "execution_count": null,
   "metadata": {},
   "outputs": [],
   "source": []
  }
 ],
 "metadata": {
  "kernelspec": {
   "display_name": "Python 3",
   "language": "python",
   "name": "python3"
  },
  "language_info": {
   "codemirror_mode": {
    "name": "ipython",
    "version": 3
   },
   "file_extension": ".py",
   "mimetype": "text/x-python",
   "name": "python",
   "nbconvert_exporter": "python",
   "pygments_lexer": "ipython3",
   "version": "3.7.9"
  }
 },
 "nbformat": 4,
 "nbformat_minor": 4
}
